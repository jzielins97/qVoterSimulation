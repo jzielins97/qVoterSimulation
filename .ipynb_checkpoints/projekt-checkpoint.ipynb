{
 "cells": [
  {
   "cell_type": "code",
   "execution_count": 1,
   "metadata": {},
   "outputs": [],
   "source": [
    "import numpy as np\n",
    "from tqdm import tqdm"
   ]
  },
  {
   "cell_type": "code",
   "execution_count": 2,
   "metadata": {},
   "outputs": [],
   "source": [
    "#ustawienia\n",
    "q = np.array([5,9]) #wielkość lobby, testujemy dla [5,6]\n",
    "N = 10000 # wielkość populacji\n",
    "R = 20 # uśrednianie po realizacji\n",
    "p = np.linspace(0,1,11) #możliwe prawdopodobieństwa"
   ]
  },
  {
   "cell_type": "code",
   "execution_count": 3,
   "metadata": {},
   "outputs": [],
   "source": [
    "m_avg = np.zeros((q.size,p.size))"
   ]
  },
  {
   "cell_type": "code",
   "execution_count": 4,
   "metadata": {},
   "outputs": [],
   "source": [
    "#dwa poziomy (tablice N wymiarowe z wartościami 1 i 0)\n",
    "layer = np.random.choice([False, True], size=N, p=[0.5,0.5]) # przedstawia oba poziomy po kroku czasowym (poziomy muszą być takie same)"
   ]
  },
  {
   "cell_type": "code",
   "execution_count": null,
   "metadata": {},
   "outputs": [
    {
     "name": "stderr",
     "output_type": "stream",
     "text": [
      "100%|██████████| 20/20 [01:21<00:00,  4.06s/it]\n",
      "  0%|          | 0/20 [00:00<?, ?it/s]"
     ]
    },
    {
     "name": "stdout",
     "output_type": "stream",
     "text": [
      "Policzone dla p= 0.0 , q= 5\n"
     ]
    },
    {
     "name": "stderr",
     "output_type": "stream",
     "text": [
      "100%|██████████| 20/20 [01:21<00:00,  4.07s/it]\n",
      "  0%|          | 0/20 [00:00<?, ?it/s]"
     ]
    },
    {
     "name": "stdout",
     "output_type": "stream",
     "text": [
      "Policzone dla p= 0.0 , q= 9\n"
     ]
    },
    {
     "name": "stderr",
     "output_type": "stream",
     "text": [
      "100%|██████████| 20/20 [01:21<00:00,  4.08s/it]\n",
      "  0%|          | 0/20 [00:00<?, ?it/s]"
     ]
    },
    {
     "name": "stdout",
     "output_type": "stream",
     "text": [
      "Policzone dla p= 0.01 , q= 5\n"
     ]
    },
    {
     "name": "stderr",
     "output_type": "stream",
     "text": [
      "100%|██████████| 20/20 [01:25<00:00,  4.28s/it]\n",
      "  0%|          | 0/20 [00:00<?, ?it/s]"
     ]
    },
    {
     "name": "stdout",
     "output_type": "stream",
     "text": [
      "Policzone dla p= 0.01 , q= 9\n"
     ]
    },
    {
     "name": "stderr",
     "output_type": "stream",
     "text": [
      " 55%|█████▌    | 11/20 [00:46<00:38,  4.30s/it]"
     ]
    }
   ],
   "source": [
    "for ip in p: #pętla po wszystkich prawdopodobieństwach\n",
    "    for iq in q: #pętla po wielkościach lobby\n",
    "        for ir in tqdm(range(R)): #pętla do zrobienia 20 realizacji dla każdej opcji q i p\n",
    "            for it in range(N): #pętla czasowa, 5 milionów kroków\n",
    "                layer_ = np.array((layer,layer))\n",
    "                for il in range(layer_.shape[0]): #pętla po poziomach\n",
    "                    index = np.random.randint(layer.size)\n",
    "                    rand = np.random.rand() #losowanie: jeśli jest 1-p to losujemy lobby\n",
    "                    if rand > ip:\n",
    "                        lobby = layer[np.random.choice(len(layer),size=iq,replace=False)]\n",
    "                        if np.all(lobby == lobby[0]):\n",
    "                            layer_[il,index] = lobby[0]\n",
    "                    elif rand > ip/2: # jeśli jest p/2 to zmieniamy wartość\n",
    "                        layer_[il,index] = not layer[index]\n",
    "                    else: # w przeciwnym razie zostaje jak jest\n",
    "                        layer_[il,index] = layer[index]\n",
    "                #koniec pętli po poziomach\n",
    "                layer = layer_[0] & layer_[1] #aktualizacja stanów węzłów\n",
    "            #konice pętli czasowej\n",
    "            c = np.count_nonzero(layer) / layer.size\n",
    "            m_avg[q == iq, p == ip] += 2*c - 1\n",
    "        #koniec pętli po realizacjach\n",
    "        print(\"Policzone dla p=\",ip,\", q=\",iq)\n",
    "    #koniec pętli po wielkościach lobby\n",
    "#konice pętli po prawdopodobieństwach"
   ]
  },
  {
   "cell_type": "code",
   "execution_count": null,
   "metadata": {},
   "outputs": [],
   "source": []
  },
  {
   "cell_type": "code",
   "execution_count": null,
   "metadata": {},
   "outputs": [],
   "source": []
  }
 ],
 "metadata": {
  "kernelspec": {
   "display_name": "Python 3",
   "language": "python",
   "name": "python3"
  },
  "language_info": {
   "codemirror_mode": {
    "name": "ipython",
    "version": 3
   },
   "file_extension": ".py",
   "mimetype": "text/x-python",
   "name": "python",
   "nbconvert_exporter": "python",
   "pygments_lexer": "ipython3",
   "version": "3.8.5"
  }
 },
 "nbformat": 4,
 "nbformat_minor": 4
}
